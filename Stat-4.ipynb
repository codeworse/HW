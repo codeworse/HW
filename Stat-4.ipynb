{
 "cells": [
  {
   "cell_type": "code",
   "execution_count": 5,
   "metadata": {},
   "outputs": [
    {
     "ename": "ModuleNotFoundError",
     "evalue": "No module named 'matplotlib'",
     "output_type": "error",
     "traceback": [
      "\u001b[0;31m---------------------------------------------------------------------------\u001b[0m",
      "\u001b[0;31mModuleNotFoundError\u001b[0m                       Traceback (most recent call last)",
      "Cell \u001b[0;32mIn[5], line 2\u001b[0m\n\u001b[1;32m      1\u001b[0m \u001b[38;5;28;01mimport\u001b[39;00m \u001b[38;5;21;01mnumpy\u001b[39;00m \u001b[38;5;28;01mas\u001b[39;00m \u001b[38;5;21;01mnp\u001b[39;00m\n\u001b[0;32m----> 2\u001b[0m \u001b[38;5;28;01mimport\u001b[39;00m \u001b[38;5;21;01mmatplotlib\u001b[39;00m\u001b[38;5;21;01m.\u001b[39;00m\u001b[38;5;21;01mpyplot\u001b[39;00m \u001b[38;5;28;01mas\u001b[39;00m \u001b[38;5;21;01mplt\u001b[39;00m\n\u001b[1;32m      3\u001b[0m \u001b[38;5;28;01mimport\u001b[39;00m \u001b[38;5;21;01mseaborn\u001b[39;00m \u001b[38;5;28;01mas\u001b[39;00m \u001b[38;5;21;01msns\u001b[39;00m\n\u001b[1;32m      4\u001b[0m \u001b[38;5;28;01mimport\u001b[39;00m \u001b[38;5;21;01mscipy\u001b[39;00m\u001b[38;5;21;01m.\u001b[39;00m\u001b[38;5;21;01mstats\u001b[39;00m \u001b[38;5;28;01mas\u001b[39;00m \u001b[38;5;21;01msps\u001b[39;00m\n",
      "\u001b[0;31mModuleNotFoundError\u001b[0m: No module named 'matplotlib'"
     ]
    }
   ],
   "source": [
    "import numpy as np\n",
    "import matplotlib.pyplot as plt\n",
    "import seaborn as sns\n",
    "import scipy.stats as sps"
   ]
  },
  {
   "cell_type": "code",
   "execution_count": null,
   "metadata": {},
   "outputs": [],
   "source": []
  },
  {
   "cell_type": "markdown",
   "metadata": {},
   "source": [
    "# Задача 1"
   ]
  },
  {
   "cell_type": "code",
   "execution_count": null,
   "metadata": {},
   "outputs": [],
   "source": [
    "def Gk(t, n, k, X_max): # функция G_k\n",
    "    return np.sum(X_max - np.log(n) <= t) / k\n",
    "def Gumbel(t):\n",
    "    return np.exp(-np.exp(-t))"
   ]
  },
  {
   "cell_type": "code",
   "execution_count": null,
   "metadata": {},
   "outputs": [],
   "source": [
    "np.random.seed(52)\n",
    "def gen_task1(n, need_to_print=False):\n",
    "    k = n * n\n",
    "    l = 0\n",
    "    r = 3\n",
    "    X = np.random.exponential(1, (k, n)) # генерируем k выборок\n",
    "    X_max = np.max(X, axis=1) # находим максимумы\n",
    "    x_values = np.arange(l, r, 0.01)\n",
    "    y_values = np.array([Gk(x, n, k, X_max) for x in x_values])\n",
    "    y_gumbel_values = np.array([Gumbel(x) for x in x_values])\n",
    "    if need_to_print:\n",
    "        plt.plot(x_values, y_values, label=r'$\\hat{G_K}$')\n",
    "        plt.plot(x_values, y_gumbel_values, label=r'$e^{-e^{-x}}$')\n",
    "        plt.legend(fontsize=16)\n",
    "        plt.show()\n",
    "    Tk = np.max(np.absolute(y_gumbel_values - y_values))\n",
    "    return Tk\n"
   ]
  },
  {
   "cell_type": "code",
   "execution_count": null,
   "metadata": {},
   "outputs": [],
   "source": [
    "T = []\n",
    "N = []\n",
    "for n in range(30, 500, 50):\n",
    "    Tk = gen_task1(n)\n",
    "    print('n = {}, Tk = {}'.format(n, Tk))\n",
    "    T.append(Tk)\n",
    "    N.append(n)\n",
    "plt.plot(N, T)"
   ]
  },
  {
   "cell_type": "code",
   "execution_count": null,
   "metadata": {},
   "outputs": [],
   "source": [
    "gen_task1(30, True)"
   ]
  },
  {
   "cell_type": "markdown",
   "metadata": {},
   "source": [
    "# Задача 2"
   ]
  },
  {
   "cell_type": "code",
   "execution_count": null,
   "metadata": {},
   "outputs": [],
   "source": [
    "def gen_task2(n, r):\n",
    "    # TODO"
   ]
  },
  {
   "cell_type": "markdown",
   "metadata": {},
   "source": [
    "# Задача 3"
   ]
  },
  {
   "cell_type": "code",
   "execution_count": null,
   "metadata": {},
   "outputs": [],
   "source": [
    "np.random.seed(52)\n",
    "def gen_task3(n, r):\n",
    "    k = n * n\n",
    "    X = np.random.uniform(0, 1, (k, n)) # генерируем k выборок\n",
    "    X_sorted = np.sort(X)\n",
    "    X_r = X_sorted[:, r - 1] # находим r-ую статистику\n",
    "    plt.hist(X_r, bins=k)\n",
    "    Beta = np.random.beta(r, n+1-r)\n",
    "    plt.hist(Beta)"
   ]
  },
  {
   "cell_type": "code",
   "execution_count": null,
   "metadata": {},
   "outputs": [],
   "source": [
    "gen_task3(20, 10)"
   ]
  }
 ],
 "metadata": {
  "kernelspec": {
   "display_name": "Python 3 (ipykernel)",
   "language": "python",
   "name": "python3"
  },
  "language_info": {
   "codemirror_mode": {
    "name": "ipython",
    "version": 3
   },
   "file_extension": ".py",
   "mimetype": "text/x-python",
   "name": "python",
   "nbconvert_exporter": "python",
   "pygments_lexer": "ipython3",
   "version": "3.12.1"
  }
 },
 "nbformat": 4,
 "nbformat_minor": 4
}
